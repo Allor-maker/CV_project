{
 "cells": [
  {
   "cell_type": "code",
   "execution_count": 7,
   "metadata": {},
   "outputs": [],
   "source": [
    "import torch\n",
    "import torch.nn as nn\n",
    "import torch.optim as optim\n",
    "import random\n",
    "import numpy as np\n",
    "from tqdm.notebook import tqdm\n",
    "from torchvision import datasets,models,transforms\n",
    "from torch.utils.data import DataLoader\n",
    "from sklearn.metrics import accuracy_score"
   ]
  },
  {
   "cell_type": "code",
   "execution_count": 8,
   "metadata": {},
   "outputs": [],
   "source": [
    "batch_size = 16\n",
    "learning_rate = 0.0005\n"
   ]
  },
  {
   "cell_type": "code",
   "execution_count": 9,
   "metadata": {},
   "outputs": [],
   "source": [
    "\n",
    "train_dataset = datasets.CIFAR10(root=\"./data\", train=True, transform=transforms.ToTensor(), download=True)\n",
    "test_dataset = datasets.CIFAR10(root=\"./data\", train=False, transform=transforms.ToTensor(), download=True)\n",
    "\n",
    "train_loader = DataLoader(train_dataset, batch_size=batch_size, shuffle=True)\n",
    "test_loader = DataLoader(test_dataset, batch_size=batch_size, shuffle=False)"
   ]
  },
  {
   "cell_type": "code",
   "execution_count": 10,
   "metadata": {},
   "outputs": [
    {
     "name": "stderr",
     "output_type": "stream",
     "text": [
      "c:\\VSCode\\project\\FirstExample\\fe_venv\\Lib\\site-packages\\torchvision\\models\\_utils.py:208: UserWarning: The parameter 'pretrained' is deprecated since 0.13 and may be removed in the future, please use 'weights' instead.\n",
      "  warnings.warn(\n",
      "c:\\VSCode\\project\\FirstExample\\fe_venv\\Lib\\site-packages\\torchvision\\models\\_utils.py:223: UserWarning: Arguments other than a weight enum or `None` for 'weights' are deprecated since 0.13 and may be removed in the future. The current behavior is equivalent to passing `weights=ResNet18_Weights.IMAGENET1K_V1`. You can also use `weights=ResNet18_Weights.DEFAULT` to get the most up-to-date weights.\n",
      "  warnings.warn(msg)\n"
     ]
    }
   ],
   "source": [
    "net = models.resnet18(pretrained = True)\n",
    "for param in net.layer1.parameters():\n",
    "    param.requires_grad = False\n",
    "for param in net.layer2.parameters():\n",
    "    param.requires_grad = False\n",
    "net.fc = nn.Linear(net.fc.in_features,10)\n",
    "net.fc.requires_grad = True\n",
    "optimizer = optim.Adam(net.parameters(),lr=learning_rate)\n",
    "loss_fn=nn.CrossEntropyLoss()"
   ]
  },
  {
   "cell_type": "code",
   "execution_count": 11,
   "metadata": {},
   "outputs": [],
   "source": [
    "def train(net,n_epoch=2):\n",
    "    for epoch in tqdm(range(n_epoch)):\n",
    "        batchiter = iter(train_loader)\n",
    "\n",
    "        running_loss = 0.0\n",
    "        all_preds = []  # Инициализируем перед циклом\n",
    "        all_labels = []\n",
    "        \n",
    "        for i,batch in enumerate(tqdm(batchiter)):\n",
    "            x_batch,y_batch = batch\n",
    "            optimizer.zero_grad()\n",
    "            y_pred=net(x_batch)\n",
    "            loss = loss_fn(y_pred,y_batch)\n",
    "            loss.backward()\n",
    "            optimizer.step()\n",
    "            running_loss+=loss.item()\n",
    "            \n",
    "            _, preds = torch.max(y_pred, dim=1)  # Получаем классы\n",
    "            all_preds.extend(preds.cpu().numpy())  # Переводим в numpy\n",
    "            all_labels.extend(y_batch.cpu().numpy())\n",
    "\n",
    "            if i % 500 == 499:  # Каждые 500 итераций\n",
    "                avg_loss = running_loss / 500\n",
    "                accuracy = accuracy_score(all_labels, all_preds) * 100\n",
    "                print(f'[{epoch + 1}, {i + 1}] loss: {avg_loss:.3f} | accuracy: {accuracy:.2f}%')\n",
    "                \n",
    "                running_loss = 0.0\n",
    "                all_preds = []\n",
    "                all_labels = []  # Сброс списков\n",
    "    print(\"обучение завершено\")\n",
    "    return net"
   ]
  },
  {
   "cell_type": "code",
   "execution_count": 12,
   "metadata": {},
   "outputs": [
    {
     "data": {
      "application/vnd.jupyter.widget-view+json": {
       "model_id": "07954d3a6e4d4f928088b1697f89c16f",
       "version_major": 2,
       "version_minor": 0
      },
      "text/plain": [
       "  0%|          | 0/10 [00:00<?, ?it/s]"
      ]
     },
     "metadata": {},
     "output_type": "display_data"
    },
    {
     "data": {
      "application/vnd.jupyter.widget-view+json": {
       "model_id": "a47b31283b2e4127a2fba7d3b3f2359b",
       "version_major": 2,
       "version_minor": 0
      },
      "text/plain": [
       "  0%|          | 0/3125 [00:00<?, ?it/s]"
      ]
     },
     "metadata": {},
     "output_type": "display_data"
    },
    {
     "name": "stdout",
     "output_type": "stream",
     "text": [
      "[1, 500] loss: 1.485 | accuracy: 49.55%\n",
      "[1, 1000] loss: 1.180 | accuracy: 59.81%\n",
      "[1, 1500] loss: 1.094 | accuracy: 62.91%\n",
      "[1, 2000] loss: 1.021 | accuracy: 65.69%\n",
      "[1, 2500] loss: 0.981 | accuracy: 67.33%\n",
      "[1, 3000] loss: 0.947 | accuracy: 67.64%\n"
     ]
    },
    {
     "data": {
      "application/vnd.jupyter.widget-view+json": {
       "model_id": "4df6ec658eb8493e82fbe0e482132e95",
       "version_major": 2,
       "version_minor": 0
      },
      "text/plain": [
       "  0%|          | 0/3125 [00:00<?, ?it/s]"
      ]
     },
     "metadata": {},
     "output_type": "display_data"
    },
    {
     "name": "stdout",
     "output_type": "stream",
     "text": [
      "[2, 500] loss: 0.836 | accuracy: 72.05%\n",
      "[2, 1000] loss: 0.841 | accuracy: 71.43%\n",
      "[2, 1500] loss: 0.825 | accuracy: 72.69%\n",
      "[2, 2000] loss: 0.806 | accuracy: 72.20%\n",
      "[2, 2500] loss: 0.783 | accuracy: 73.29%\n",
      "[2, 3000] loss: 0.769 | accuracy: 74.24%\n"
     ]
    },
    {
     "data": {
      "application/vnd.jupyter.widget-view+json": {
       "model_id": "e9ef5dbec2cb46d190b4bde2969c72f0",
       "version_major": 2,
       "version_minor": 0
      },
      "text/plain": [
       "  0%|          | 0/3125 [00:00<?, ?it/s]"
      ]
     },
     "metadata": {},
     "output_type": "display_data"
    },
    {
     "name": "stdout",
     "output_type": "stream",
     "text": [
      "[3, 500] loss: 0.679 | accuracy: 77.11%\n",
      "[3, 1000] loss: 0.686 | accuracy: 76.56%\n",
      "[3, 1500] loss: 0.695 | accuracy: 76.14%\n",
      "[3, 2000] loss: 0.692 | accuracy: 76.53%\n",
      "[3, 2500] loss: 0.641 | accuracy: 78.25%\n",
      "[3, 3000] loss: 0.659 | accuracy: 77.60%\n"
     ]
    },
    {
     "data": {
      "application/vnd.jupyter.widget-view+json": {
       "model_id": "555229d2a9304493804926320aee474b",
       "version_major": 2,
       "version_minor": 0
      },
      "text/plain": [
       "  0%|          | 0/3125 [00:00<?, ?it/s]"
      ]
     },
     "metadata": {},
     "output_type": "display_data"
    },
    {
     "name": "stdout",
     "output_type": "stream",
     "text": [
      "[4, 500] loss: 0.539 | accuracy: 81.83%\n",
      "[4, 1000] loss: 0.555 | accuracy: 80.96%\n",
      "[4, 1500] loss: 0.575 | accuracy: 80.00%\n",
      "[4, 2000] loss: 0.568 | accuracy: 80.73%\n",
      "[4, 2500] loss: 0.568 | accuracy: 80.58%\n",
      "[4, 3000] loss: 0.573 | accuracy: 80.34%\n"
     ]
    },
    {
     "data": {
      "application/vnd.jupyter.widget-view+json": {
       "model_id": "b81738dc4f6243c28a9cfb711369f3ab",
       "version_major": 2,
       "version_minor": 0
      },
      "text/plain": [
       "  0%|          | 0/3125 [00:00<?, ?it/s]"
      ]
     },
     "metadata": {},
     "output_type": "display_data"
    },
    {
     "name": "stdout",
     "output_type": "stream",
     "text": [
      "[5, 500] loss: 0.455 | accuracy: 84.89%\n",
      "[5, 1000] loss: 0.481 | accuracy: 83.75%\n",
      "[5, 1500] loss: 0.483 | accuracy: 83.23%\n",
      "[5, 2000] loss: 0.471 | accuracy: 83.64%\n",
      "[5, 2500] loss: 0.500 | accuracy: 83.25%\n",
      "[5, 3000] loss: 0.497 | accuracy: 82.97%\n"
     ]
    },
    {
     "data": {
      "application/vnd.jupyter.widget-view+json": {
       "model_id": "f15ff97341c9478ab5a313d4a85a818d",
       "version_major": 2,
       "version_minor": 0
      },
      "text/plain": [
       "  0%|          | 0/3125 [00:00<?, ?it/s]"
      ]
     },
     "metadata": {},
     "output_type": "display_data"
    },
    {
     "name": "stdout",
     "output_type": "stream",
     "text": [
      "[6, 500] loss: 0.375 | accuracy: 87.14%\n",
      "[6, 1000] loss: 0.420 | accuracy: 85.52%\n",
      "[6, 1500] loss: 0.387 | accuracy: 86.85%\n",
      "[6, 2000] loss: 0.419 | accuracy: 85.54%\n",
      "[6, 2500] loss: 0.430 | accuracy: 85.20%\n",
      "[6, 3000] loss: 0.433 | accuracy: 85.10%\n"
     ]
    },
    {
     "data": {
      "application/vnd.jupyter.widget-view+json": {
       "model_id": "2055232b541f4211b6d2fafc9521d92f",
       "version_major": 2,
       "version_minor": 0
      },
      "text/plain": [
       "  0%|          | 0/3125 [00:00<?, ?it/s]"
      ]
     },
     "metadata": {},
     "output_type": "display_data"
    },
    {
     "name": "stdout",
     "output_type": "stream",
     "text": [
      "[7, 500] loss: 0.320 | accuracy: 89.20%\n",
      "[7, 1000] loss: 0.329 | accuracy: 89.11%\n",
      "[7, 1500] loss: 0.343 | accuracy: 87.88%\n",
      "[7, 2000] loss: 0.356 | accuracy: 87.78%\n",
      "[7, 2500] loss: 0.347 | accuracy: 88.24%\n",
      "[7, 3000] loss: 0.378 | accuracy: 86.66%\n"
     ]
    },
    {
     "data": {
      "application/vnd.jupyter.widget-view+json": {
       "model_id": "a2489bfaee1a46cfac45486ee66a3d4f",
       "version_major": 2,
       "version_minor": 0
      },
      "text/plain": [
       "  0%|          | 0/3125 [00:00<?, ?it/s]"
      ]
     },
     "metadata": {},
     "output_type": "display_data"
    },
    {
     "name": "stdout",
     "output_type": "stream",
     "text": [
      "[8, 500] loss: 0.251 | accuracy: 91.62%\n",
      "[8, 1000] loss: 0.288 | accuracy: 89.94%\n",
      "[8, 1500] loss: 0.309 | accuracy: 89.28%\n",
      "[8, 2000] loss: 0.295 | accuracy: 90.11%\n",
      "[8, 2500] loss: 0.308 | accuracy: 89.31%\n",
      "[8, 3000] loss: 0.303 | accuracy: 89.70%\n"
     ]
    },
    {
     "data": {
      "application/vnd.jupyter.widget-view+json": {
       "model_id": "0849a6eb7b4c4d13b2d9af8cb7d3d43d",
       "version_major": 2,
       "version_minor": 0
      },
      "text/plain": [
       "  0%|          | 0/3125 [00:00<?, ?it/s]"
      ]
     },
     "metadata": {},
     "output_type": "display_data"
    },
    {
     "name": "stdout",
     "output_type": "stream",
     "text": [
      "[9, 500] loss: 0.221 | accuracy: 92.38%\n",
      "[9, 1000] loss: 0.230 | accuracy: 91.92%\n",
      "[9, 1500] loss: 0.256 | accuracy: 90.88%\n",
      "[9, 2000] loss: 0.262 | accuracy: 90.96%\n",
      "[9, 2500] loss: 0.260 | accuracy: 91.03%\n",
      "[9, 3000] loss: 0.272 | accuracy: 90.62%\n"
     ]
    },
    {
     "data": {
      "application/vnd.jupyter.widget-view+json": {
       "model_id": "c523ee011ae8426d8aeebae16cabec4c",
       "version_major": 2,
       "version_minor": 0
      },
      "text/plain": [
       "  0%|          | 0/3125 [00:00<?, ?it/s]"
      ]
     },
     "metadata": {},
     "output_type": "display_data"
    },
    {
     "name": "stdout",
     "output_type": "stream",
     "text": [
      "[10, 500] loss: 0.189 | accuracy: 93.61%\n",
      "[10, 1000] loss: 0.197 | accuracy: 93.06%\n",
      "[10, 1500] loss: 0.231 | accuracy: 92.05%\n",
      "[10, 2000] loss: 0.230 | accuracy: 91.97%\n",
      "[10, 2500] loss: 0.229 | accuracy: 92.05%\n",
      "[10, 3000] loss: 0.250 | accuracy: 91.90%\n",
      "обучение завершено\n"
     ]
    },
    {
     "data": {
      "text/plain": [
       "ResNet(\n",
       "  (conv1): Conv2d(3, 64, kernel_size=(7, 7), stride=(2, 2), padding=(3, 3), bias=False)\n",
       "  (bn1): BatchNorm2d(64, eps=1e-05, momentum=0.1, affine=True, track_running_stats=True)\n",
       "  (relu): ReLU(inplace=True)\n",
       "  (maxpool): MaxPool2d(kernel_size=3, stride=2, padding=1, dilation=1, ceil_mode=False)\n",
       "  (layer1): Sequential(\n",
       "    (0): BasicBlock(\n",
       "      (conv1): Conv2d(64, 64, kernel_size=(3, 3), stride=(1, 1), padding=(1, 1), bias=False)\n",
       "      (bn1): BatchNorm2d(64, eps=1e-05, momentum=0.1, affine=True, track_running_stats=True)\n",
       "      (relu): ReLU(inplace=True)\n",
       "      (conv2): Conv2d(64, 64, kernel_size=(3, 3), stride=(1, 1), padding=(1, 1), bias=False)\n",
       "      (bn2): BatchNorm2d(64, eps=1e-05, momentum=0.1, affine=True, track_running_stats=True)\n",
       "    )\n",
       "    (1): BasicBlock(\n",
       "      (conv1): Conv2d(64, 64, kernel_size=(3, 3), stride=(1, 1), padding=(1, 1), bias=False)\n",
       "      (bn1): BatchNorm2d(64, eps=1e-05, momentum=0.1, affine=True, track_running_stats=True)\n",
       "      (relu): ReLU(inplace=True)\n",
       "      (conv2): Conv2d(64, 64, kernel_size=(3, 3), stride=(1, 1), padding=(1, 1), bias=False)\n",
       "      (bn2): BatchNorm2d(64, eps=1e-05, momentum=0.1, affine=True, track_running_stats=True)\n",
       "    )\n",
       "  )\n",
       "  (layer2): Sequential(\n",
       "    (0): BasicBlock(\n",
       "      (conv1): Conv2d(64, 128, kernel_size=(3, 3), stride=(2, 2), padding=(1, 1), bias=False)\n",
       "      (bn1): BatchNorm2d(128, eps=1e-05, momentum=0.1, affine=True, track_running_stats=True)\n",
       "      (relu): ReLU(inplace=True)\n",
       "      (conv2): Conv2d(128, 128, kernel_size=(3, 3), stride=(1, 1), padding=(1, 1), bias=False)\n",
       "      (bn2): BatchNorm2d(128, eps=1e-05, momentum=0.1, affine=True, track_running_stats=True)\n",
       "      (downsample): Sequential(\n",
       "        (0): Conv2d(64, 128, kernel_size=(1, 1), stride=(2, 2), bias=False)\n",
       "        (1): BatchNorm2d(128, eps=1e-05, momentum=0.1, affine=True, track_running_stats=True)\n",
       "      )\n",
       "    )\n",
       "    (1): BasicBlock(\n",
       "      (conv1): Conv2d(128, 128, kernel_size=(3, 3), stride=(1, 1), padding=(1, 1), bias=False)\n",
       "      (bn1): BatchNorm2d(128, eps=1e-05, momentum=0.1, affine=True, track_running_stats=True)\n",
       "      (relu): ReLU(inplace=True)\n",
       "      (conv2): Conv2d(128, 128, kernel_size=(3, 3), stride=(1, 1), padding=(1, 1), bias=False)\n",
       "      (bn2): BatchNorm2d(128, eps=1e-05, momentum=0.1, affine=True, track_running_stats=True)\n",
       "    )\n",
       "  )\n",
       "  (layer3): Sequential(\n",
       "    (0): BasicBlock(\n",
       "      (conv1): Conv2d(128, 256, kernel_size=(3, 3), stride=(2, 2), padding=(1, 1), bias=False)\n",
       "      (bn1): BatchNorm2d(256, eps=1e-05, momentum=0.1, affine=True, track_running_stats=True)\n",
       "      (relu): ReLU(inplace=True)\n",
       "      (conv2): Conv2d(256, 256, kernel_size=(3, 3), stride=(1, 1), padding=(1, 1), bias=False)\n",
       "      (bn2): BatchNorm2d(256, eps=1e-05, momentum=0.1, affine=True, track_running_stats=True)\n",
       "      (downsample): Sequential(\n",
       "        (0): Conv2d(128, 256, kernel_size=(1, 1), stride=(2, 2), bias=False)\n",
       "        (1): BatchNorm2d(256, eps=1e-05, momentum=0.1, affine=True, track_running_stats=True)\n",
       "      )\n",
       "    )\n",
       "    (1): BasicBlock(\n",
       "      (conv1): Conv2d(256, 256, kernel_size=(3, 3), stride=(1, 1), padding=(1, 1), bias=False)\n",
       "      (bn1): BatchNorm2d(256, eps=1e-05, momentum=0.1, affine=True, track_running_stats=True)\n",
       "      (relu): ReLU(inplace=True)\n",
       "      (conv2): Conv2d(256, 256, kernel_size=(3, 3), stride=(1, 1), padding=(1, 1), bias=False)\n",
       "      (bn2): BatchNorm2d(256, eps=1e-05, momentum=0.1, affine=True, track_running_stats=True)\n",
       "    )\n",
       "  )\n",
       "  (layer4): Sequential(\n",
       "    (0): BasicBlock(\n",
       "      (conv1): Conv2d(256, 512, kernel_size=(3, 3), stride=(2, 2), padding=(1, 1), bias=False)\n",
       "      (bn1): BatchNorm2d(512, eps=1e-05, momentum=0.1, affine=True, track_running_stats=True)\n",
       "      (relu): ReLU(inplace=True)\n",
       "      (conv2): Conv2d(512, 512, kernel_size=(3, 3), stride=(1, 1), padding=(1, 1), bias=False)\n",
       "      (bn2): BatchNorm2d(512, eps=1e-05, momentum=0.1, affine=True, track_running_stats=True)\n",
       "      (downsample): Sequential(\n",
       "        (0): Conv2d(256, 512, kernel_size=(1, 1), stride=(2, 2), bias=False)\n",
       "        (1): BatchNorm2d(512, eps=1e-05, momentum=0.1, affine=True, track_running_stats=True)\n",
       "      )\n",
       "    )\n",
       "    (1): BasicBlock(\n",
       "      (conv1): Conv2d(512, 512, kernel_size=(3, 3), stride=(1, 1), padding=(1, 1), bias=False)\n",
       "      (bn1): BatchNorm2d(512, eps=1e-05, momentum=0.1, affine=True, track_running_stats=True)\n",
       "      (relu): ReLU(inplace=True)\n",
       "      (conv2): Conv2d(512, 512, kernel_size=(3, 3), stride=(1, 1), padding=(1, 1), bias=False)\n",
       "      (bn2): BatchNorm2d(512, eps=1e-05, momentum=0.1, affine=True, track_running_stats=True)\n",
       "    )\n",
       "  )\n",
       "  (avgpool): AdaptiveAvgPool2d(output_size=(1, 1))\n",
       "  (fc): Linear(in_features=512, out_features=10, bias=True)\n",
       ")"
      ]
     },
     "execution_count": 12,
     "metadata": {},
     "output_type": "execute_result"
    }
   ],
   "source": [
    "train(net,10)"
   ]
  },
  {
   "cell_type": "code",
   "execution_count": 13,
   "metadata": {},
   "outputs": [],
   "source": [
    "test_dataiter1 = iter(test_loader)\n",
    "images1,labels1 = next(test_dataiter1)"
   ]
  },
  {
   "cell_type": "code",
   "execution_count": 14,
   "metadata": {},
   "outputs": [
    {
     "data": {
      "text/plain": [
       "0.8125"
      ]
     },
     "execution_count": 14,
     "metadata": {},
     "output_type": "execute_result"
    }
   ],
   "source": [
    "accuracy_score(labels1.numpy(),np.argmax(net.forward(images1).detach().numpy(),axis=1))"
   ]
  }
 ],
 "metadata": {
  "kernelspec": {
   "display_name": "fe_venv",
   "language": "python",
   "name": "python3"
  },
  "language_info": {
   "codemirror_mode": {
    "name": "ipython",
    "version": 3
   },
   "file_extension": ".py",
   "mimetype": "text/x-python",
   "name": "python",
   "nbconvert_exporter": "python",
   "pygments_lexer": "ipython3",
   "version": "3.13.0"
  }
 },
 "nbformat": 4,
 "nbformat_minor": 2
}
